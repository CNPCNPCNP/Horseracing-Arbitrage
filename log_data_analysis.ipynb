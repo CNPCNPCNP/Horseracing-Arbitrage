{
 "cells": [
  {
   "attachments": {},
   "cell_type": "markdown",
   "metadata": {},
   "source": [
    "## How good is the strategy?"
   ]
  },
  {
   "attachments": {},
   "cell_type": "markdown",
   "metadata": {},
   "source": [
    "#### Import packages"
   ]
  },
  {
   "cell_type": "code",
   "execution_count": 1,
   "metadata": {},
   "outputs": [],
   "source": [
    "# import data packages\n",
    "import pandas as pd\n",
    "import numpy as np\n",
    "from scipy.stats import t as t_test\n",
    "import datetime\n",
    "import matplotlib.pyplot as plt\n",
    "\n"
   ]
  },
  {
   "cell_type": "code",
   "execution_count": 3,
   "metadata": {},
   "outputs": [
    {
     "data": {
      "text/html": [
       "<div>\n",
       "<style scoped>\n",
       "    .dataframe tbody tr th:only-of-type {\n",
       "        vertical-align: middle;\n",
       "    }\n",
       "\n",
       "    .dataframe tbody tr th {\n",
       "        vertical-align: top;\n",
       "    }\n",
       "\n",
       "    .dataframe thead th {\n",
       "        text-align: right;\n",
       "    }\n",
       "</style>\n",
       "<table border=\"1\" class=\"dataframe\">\n",
       "  <thead>\n",
       "    <tr style=\"text-align: right;\">\n",
       "      <th></th>\n",
       "      <th>Datetime</th>\n",
       "      <th>Horse</th>\n",
       "      <th>Type</th>\n",
       "      <th>Location</th>\n",
       "      <th>Price</th>\n",
       "      <th>Midpoint Price</th>\n",
       "      <th>Amount</th>\n",
       "      <th>6.5</th>\n",
       "      <th>3.2</th>\n",
       "      <th>Venue</th>\n",
       "      <th>Midpoint Percentage</th>\n",
       "      <th>WIN_LOSE</th>\n",
       "      <th>BSP</th>\n",
       "      <th>Turnover</th>\n",
       "      <th>Expected Value</th>\n",
       "    </tr>\n",
       "  </thead>\n",
       "  <tbody>\n",
       "    <tr>\n",
       "      <th>0</th>\n",
       "      <td>2023-01-04</td>\n",
       "      <td>Abreed</td>\n",
       "      <td>RaceType.HORSE_RACE</td>\n",
       "      <td>AUS</td>\n",
       "      <td>8.50</td>\n",
       "      <td>8.341066</td>\n",
       "      <td>1.0</td>\n",
       "      <td>1.0</td>\n",
       "      <td>1.0</td>\n",
       "      <td>Geelong</td>\n",
       "      <td>0.981302</td>\n",
       "      <td>0</td>\n",
       "      <td>9.554885</td>\n",
       "      <td>88.959729</td>\n",
       "      <td>-0.110403</td>\n",
       "    </tr>\n",
       "    <tr>\n",
       "      <th>1</th>\n",
       "      <td>2023-01-04</td>\n",
       "      <td>Angry Ann</td>\n",
       "      <td>RaceType.GREYHOUND_RACE</td>\n",
       "      <td>AUS</td>\n",
       "      <td>6.50</td>\n",
       "      <td>6.182857</td>\n",
       "      <td>1.0</td>\n",
       "      <td>1.0</td>\n",
       "      <td>1.0</td>\n",
       "      <td>Richmond</td>\n",
       "      <td>0.951209</td>\n",
       "      <td>1</td>\n",
       "      <td>4.961008</td>\n",
       "      <td>131.021753</td>\n",
       "      <td>0.310218</td>\n",
       "    </tr>\n",
       "    <tr>\n",
       "      <th>2</th>\n",
       "      <td>2023-01-04</td>\n",
       "      <td>Another Cognac</td>\n",
       "      <td>RaceType.HORSE_RACE</td>\n",
       "      <td>AUS</td>\n",
       "      <td>6.50</td>\n",
       "      <td>6.382609</td>\n",
       "      <td>1.0</td>\n",
       "      <td>1.0</td>\n",
       "      <td>1.0</td>\n",
       "      <td>Warwick Farm</td>\n",
       "      <td>0.981940</td>\n",
       "      <td>1</td>\n",
       "      <td>4.471198</td>\n",
       "      <td>145.374904</td>\n",
       "      <td>0.453749</td>\n",
       "    </tr>\n",
       "    <tr>\n",
       "      <th>3</th>\n",
       "      <td>2023-01-04</td>\n",
       "      <td>Big Time Brynley</td>\n",
       "      <td>RaceType.GREYHOUND_RACE</td>\n",
       "      <td>AUS</td>\n",
       "      <td>1.80</td>\n",
       "      <td>1.734172</td>\n",
       "      <td>1.0</td>\n",
       "      <td>1.0</td>\n",
       "      <td>1.0</td>\n",
       "      <td>Manawatu</td>\n",
       "      <td>0.963429</td>\n",
       "      <td>0</td>\n",
       "      <td>1.847211</td>\n",
       "      <td>97.444200</td>\n",
       "      <td>-0.025558</td>\n",
       "    </tr>\n",
       "    <tr>\n",
       "      <th>4</th>\n",
       "      <td>2023-01-04</td>\n",
       "      <td>Candy Kaos</td>\n",
       "      <td>RaceType.GREYHOUND_RACE</td>\n",
       "      <td>AUS</td>\n",
       "      <td>5.00</td>\n",
       "      <td>4.750000</td>\n",
       "      <td>1.0</td>\n",
       "      <td>1.0</td>\n",
       "      <td>1.0</td>\n",
       "      <td>Taree</td>\n",
       "      <td>0.950000</td>\n",
       "      <td>0</td>\n",
       "      <td>5.583165</td>\n",
       "      <td>89.554936</td>\n",
       "      <td>-0.104451</td>\n",
       "    </tr>\n",
       "    <tr>\n",
       "      <th>...</th>\n",
       "      <td>...</td>\n",
       "      <td>...</td>\n",
       "      <td>...</td>\n",
       "      <td>...</td>\n",
       "      <td>...</td>\n",
       "      <td>...</td>\n",
       "      <td>...</td>\n",
       "      <td>...</td>\n",
       "      <td>...</td>\n",
       "      <td>...</td>\n",
       "      <td>...</td>\n",
       "      <td>...</td>\n",
       "      <td>...</td>\n",
       "      <td>...</td>\n",
       "      <td>...</td>\n",
       "    </tr>\n",
       "    <tr>\n",
       "      <th>599</th>\n",
       "      <td>2022-12-16</td>\n",
       "      <td>Sweet Dynasty</td>\n",
       "      <td>RaceType.HORSE_RACE</td>\n",
       "      <td>USA</td>\n",
       "      <td>4.20</td>\n",
       "      <td>3.928571</td>\n",
       "      <td>1.0</td>\n",
       "      <td>1.0</td>\n",
       "      <td>1.0</td>\n",
       "      <td>Remington Park</td>\n",
       "      <td>0.935374</td>\n",
       "      <td>0</td>\n",
       "      <td>4.128402</td>\n",
       "      <td>101.734281</td>\n",
       "      <td>0.017343</td>\n",
       "    </tr>\n",
       "    <tr>\n",
       "      <th>600</th>\n",
       "      <td>2022-12-16</td>\n",
       "      <td>Tashkent</td>\n",
       "      <td>RaceType.HORSE_RACE</td>\n",
       "      <td>USA</td>\n",
       "      <td>3.00</td>\n",
       "      <td>99995.000000</td>\n",
       "      <td>1.0</td>\n",
       "      <td>1.0</td>\n",
       "      <td>1.0</td>\n",
       "      <td>Remington Park</td>\n",
       "      <td>33331.666667</td>\n",
       "      <td>1</td>\n",
       "      <td>1.730920</td>\n",
       "      <td>173.318279</td>\n",
       "      <td>0.733183</td>\n",
       "    </tr>\n",
       "    <tr>\n",
       "      <th>601</th>\n",
       "      <td>2022-12-16</td>\n",
       "      <td>Whiskey Reef</td>\n",
       "      <td>RaceType.GREYHOUND_RACE</td>\n",
       "      <td>AUS</td>\n",
       "      <td>3.00</td>\n",
       "      <td>2.975385</td>\n",
       "      <td>1.0</td>\n",
       "      <td>1.0</td>\n",
       "      <td>1.0</td>\n",
       "      <td>Ballarat</td>\n",
       "      <td>0.991795</td>\n",
       "      <td>0</td>\n",
       "      <td>2.814156</td>\n",
       "      <td>106.603892</td>\n",
       "      <td>0.066039</td>\n",
       "    </tr>\n",
       "    <tr>\n",
       "      <th>602</th>\n",
       "      <td>2022-12-16</td>\n",
       "      <td>Whisky Nip</td>\n",
       "      <td>RaceType.GREYHOUND_RACE</td>\n",
       "      <td>AUS</td>\n",
       "      <td>4.20</td>\n",
       "      <td>4.233333</td>\n",
       "      <td>1.0</td>\n",
       "      <td>1.0</td>\n",
       "      <td>1.0</td>\n",
       "      <td>Ballarat</td>\n",
       "      <td>1.007937</td>\n",
       "      <td>1</td>\n",
       "      <td>3.600000</td>\n",
       "      <td>116.666667</td>\n",
       "      <td>0.166667</td>\n",
       "    </tr>\n",
       "    <tr>\n",
       "      <th>603</th>\n",
       "      <td>2022-12-16</td>\n",
       "      <td>Yankee Indian</td>\n",
       "      <td>RaceType.HORSE_RACE</td>\n",
       "      <td>USA</td>\n",
       "      <td>2.45</td>\n",
       "      <td>2.340506</td>\n",
       "      <td>1.0</td>\n",
       "      <td>1.0</td>\n",
       "      <td>1.0</td>\n",
       "      <td>Remington Park</td>\n",
       "      <td>0.955309</td>\n",
       "      <td>0</td>\n",
       "      <td>2.580000</td>\n",
       "      <td>94.961240</td>\n",
       "      <td>-0.050388</td>\n",
       "    </tr>\n",
       "  </tbody>\n",
       "</table>\n",
       "<p>604 rows × 15 columns</p>\n",
       "</div>"
      ],
      "text/plain": [
       "       Datetime             Horse                     Type Location  Price  \\\n",
       "0    2023-01-04            Abreed      RaceType.HORSE_RACE      AUS   8.50   \n",
       "1    2023-01-04         Angry Ann  RaceType.GREYHOUND_RACE      AUS   6.50   \n",
       "2    2023-01-04    Another Cognac      RaceType.HORSE_RACE      AUS   6.50   \n",
       "3    2023-01-04  Big Time Brynley  RaceType.GREYHOUND_RACE      AUS   1.80   \n",
       "4    2023-01-04        Candy Kaos  RaceType.GREYHOUND_RACE      AUS   5.00   \n",
       "..          ...               ...                      ...      ...    ...   \n",
       "599  2022-12-16     Sweet Dynasty      RaceType.HORSE_RACE      USA   4.20   \n",
       "600  2022-12-16          Tashkent      RaceType.HORSE_RACE      USA   3.00   \n",
       "601  2022-12-16      Whiskey Reef  RaceType.GREYHOUND_RACE      AUS   3.00   \n",
       "602  2022-12-16        Whisky Nip  RaceType.GREYHOUND_RACE      AUS   4.20   \n",
       "603  2022-12-16     Yankee Indian      RaceType.HORSE_RACE      USA   2.45   \n",
       "\n",
       "     Midpoint Price  Amount  6.5  3.2           Venue  Midpoint Percentage  \\\n",
       "0          8.341066     1.0  1.0  1.0         Geelong             0.981302   \n",
       "1          6.182857     1.0  1.0  1.0        Richmond             0.951209   \n",
       "2          6.382609     1.0  1.0  1.0    Warwick Farm             0.981940   \n",
       "3          1.734172     1.0  1.0  1.0        Manawatu             0.963429   \n",
       "4          4.750000     1.0  1.0  1.0           Taree             0.950000   \n",
       "..              ...     ...  ...  ...             ...                  ...   \n",
       "599        3.928571     1.0  1.0  1.0  Remington Park             0.935374   \n",
       "600    99995.000000     1.0  1.0  1.0  Remington Park         33331.666667   \n",
       "601        2.975385     1.0  1.0  1.0        Ballarat             0.991795   \n",
       "602        4.233333     1.0  1.0  1.0        Ballarat             1.007937   \n",
       "603        2.340506     1.0  1.0  1.0  Remington Park             0.955309   \n",
       "\n",
       "     WIN_LOSE       BSP    Turnover  Expected Value  \n",
       "0           0  9.554885   88.959729       -0.110403  \n",
       "1           1  4.961008  131.021753        0.310218  \n",
       "2           1  4.471198  145.374904        0.453749  \n",
       "3           0  1.847211   97.444200       -0.025558  \n",
       "4           0  5.583165   89.554936       -0.104451  \n",
       "..        ...       ...         ...             ...  \n",
       "599         0  4.128402  101.734281        0.017343  \n",
       "600         1  1.730920  173.318279        0.733183  \n",
       "601         0  2.814156  106.603892        0.066039  \n",
       "602         1  3.600000  116.666667        0.166667  \n",
       "603         0  2.580000   94.961240       -0.050388  \n",
       "\n",
       "[604 rows x 15 columns]"
      ]
     },
     "execution_count": 3,
     "metadata": {},
     "output_type": "execute_result"
    }
   ],
   "source": [
    "#import all bets:\n",
    "all_bets = pd.read_csv('analysis/results/all_bets2.csv', index_col=0)"
   ]
  },
  {
   "attachments": {},
   "cell_type": "markdown",
   "metadata": {},
   "source": [
    "#### Manipualte base data"
   ]
  },
  {
   "cell_type": "code",
   "execution_count": 12,
   "metadata": {},
   "outputs": [],
   "source": [
    "all_bets['midpoint turnover'] = (all_bets['Midpoint Price'] / all_bets['BSP'])\n",
    "all_bets['midpoint turnover'] = (all_bets['Midpoint Price'] / all_bets['BSP'])\n",
    "all_bets['profit/loss'] = np.where(all_bets['WIN_LOSE'] == 1, (all_bets['Price'] * 1) - 1, -1)\n",
    "all_bets['winnings'] = np.where(all_bets['WIN_LOSE'] == 1, (all_bets['Price'] * 1), 0)\n",
    "all_bets['kelly'] = np.where(all_bets['WIN_LOSE'] == 1, (all_bets['Price'] * 1), 0)\n",
    "all_bets['implied_probability'] = 1 / all_bets['Price']\n",
    "#let's filter the data to only observations where the price > midpoint price:\n",
    "midpoint_strat_profit = all_bets[all_bets['Price'] > all_bets['Midpoint Price']]\n",
    "profit = sum(all_bets['profit/loss'])\n",
    "winnings = sum(all_bets['winnings'])\n",
    "returns = profit / len(all_bets) * 100\n",
    "\n",
    "# let's group the data by characteristics and see if there is a difference in key metrics:\n",
    "location_returns = all_bets.groupby('Location')['profit/loss'].sum()\n",
    "location_returns_n = all_bets.groupby('Location')['Horse'].count()\n",
    "location_returns_t = all_bets.groupby('Location')['Turnover'].mean()\n",
    "location_returns = pd.DataFrame(location_returns.sort_values(ascending=False)).merge(location_returns_n, left_index=True, right_index=True)\n",
    "location_returns = location_returns.merge(location_returns_t, left_index=True, right_index=True)\n",
    "\n",
    "venue_returns = all_bets.groupby('Venue')['profit/loss'].sum()\n",
    "venue_returns_n = all_bets.groupby('Venue')['Horse'].count()\n",
    "venure_returns_t = all_bets.groupby('Venue')['Turnover'].mean()\n",
    "venue_returns = pd.DataFrame(venue_returns.sort_values(ascending=False)).merge(venue_returns_n, left_index=True, right_index=True)\n",
    "venue_returns = venue_returns.merge(venure_returns_t, left_index=True, right_index=True)\n",
    "\n",
    "race_type_returns = all_bets.groupby('Type')['profit/loss'].sum()\n",
    "race_type_returns_n = all_bets.groupby('Type')['Horse'].count()\n",
    "race_type_returns_t = all_bets.groupby('Type')['Turnover'].mean()\n",
    "race_type_returns = pd.DataFrame(race_type_returns.sort_values(ascending=False)).merge(race_type_returns_n, left_index=True, right_index=True)\n",
    "race_type_returns = race_type_returns.merge(race_type_returns_t, left_index=True, right_index=True)"
   ]
  },
  {
   "cell_type": "code",
   "execution_count": 5,
   "metadata": {},
   "outputs": [],
   "source": [
    "# let's group the data by price and see if there is a difference in profit/loss and turnover by price:\n",
    "conditions = [(all_bets['Price'] >= 1) & (all_bets['Price'] < 2),\n",
    "                (all_bets['Price'] >= 2) & (all_bets['Price'] < 4),\n",
    "                (all_bets['Price'] >= 4) & (all_bets['Price'] < 6),\n",
    "                (all_bets['Price'] >= 6) & (all_bets['Price'] < 8),\n",
    "                (all_bets['Price'] >= 8) & (all_bets['Price'] < 10),\n",
    "                (all_bets['Price'] >= 10) & (all_bets['Price'] < 12),\n",
    "                (all_bets['Price'] >= 12) & (all_bets['Price'] < 14),\n",
    "                (all_bets['Price'] >= 14) & (all_bets['Price'] < 16),\n",
    "                (all_bets['Price'] >= 16) & (all_bets['Price'] < 18),\n",
    "                (all_bets['Price'] >= 18) & (all_bets['Price'] < 20),\n",
    "                (all_bets['Price'] >= 20)]\n",
    "\n",
    "price_group = [\"1-2\", \"2-4\", \"4-6\", \"6-8\", \"8-10\", \"10-12\", \"12-14\", \"14-16\", \"16-18\", \"18-20\", \"20+\"]\n",
    "\n",
    "all_bets['price_group'] = np.select(conditions, price_group)\n",
    "\n",
    "price_type_returns = all_bets.groupby('price_group')['profit/loss'].sum()\n",
    "price_type_returns_n = all_bets.groupby('price_group')['Horse'].count()\n",
    "price_type_returns_t = all_bets.groupby('price_group')['Turnover'].mean()\n",
    "price_type_returns = pd.DataFrame(price_type_returns).merge(price_type_returns_n, left_index=True, right_index=True)\n",
    "price_type_returns = price_type_returns.merge(price_type_returns_t, left_index=True, right_index=True)"
   ]
  },
  {
   "attachments": {},
   "cell_type": "markdown",
   "metadata": {},
   "source": [
    "#### How good are our bets thus far?"
   ]
  },
  {
   "cell_type": "code",
   "execution_count": 6,
   "metadata": {},
   "outputs": [
    {
     "name": "stdout",
     "output_type": "stream",
     "text": [
      "From a total of 604 bets, betting $1 on every horse yielded a total profit of: $-10.549999999999997\n",
      "This equates to a return on investment ($604 base investment) of: -1.747 percent.\n"
     ]
    },
    {
     "data": {
      "text/html": [
       "<div>\n",
       "<style scoped>\n",
       "    .dataframe tbody tr th:only-of-type {\n",
       "        vertical-align: middle;\n",
       "    }\n",
       "\n",
       "    .dataframe tbody tr th {\n",
       "        vertical-align: top;\n",
       "    }\n",
       "\n",
       "    .dataframe thead th {\n",
       "        text-align: right;\n",
       "    }\n",
       "</style>\n",
       "<table border=\"1\" class=\"dataframe\">\n",
       "  <thead>\n",
       "    <tr style=\"text-align: right;\">\n",
       "      <th></th>\n",
       "      <th>profit/loss</th>\n",
       "      <th>Horse</th>\n",
       "      <th>Turnover</th>\n",
       "    </tr>\n",
       "    <tr>\n",
       "      <th>Location</th>\n",
       "      <th></th>\n",
       "      <th></th>\n",
       "      <th></th>\n",
       "    </tr>\n",
       "  </thead>\n",
       "  <tbody>\n",
       "    <tr>\n",
       "      <th>AUS</th>\n",
       "      <td>36.10</td>\n",
       "      <td>513</td>\n",
       "      <td>105.438481</td>\n",
       "    </tr>\n",
       "    <tr>\n",
       "      <th>USA</th>\n",
       "      <td>-46.65</td>\n",
       "      <td>91</td>\n",
       "      <td>106.965810</td>\n",
       "    </tr>\n",
       "  </tbody>\n",
       "</table>\n",
       "</div>"
      ],
      "text/plain": [
       "          profit/loss  Horse    Turnover\n",
       "Location                                \n",
       "AUS             36.10    513  105.438481\n",
       "USA            -46.65     91  106.965810"
      ]
     },
     "metadata": {},
     "output_type": "display_data"
    },
    {
     "data": {
      "text/html": [
       "<div>\n",
       "<style scoped>\n",
       "    .dataframe tbody tr th:only-of-type {\n",
       "        vertical-align: middle;\n",
       "    }\n",
       "\n",
       "    .dataframe tbody tr th {\n",
       "        vertical-align: top;\n",
       "    }\n",
       "\n",
       "    .dataframe thead th {\n",
       "        text-align: right;\n",
       "    }\n",
       "</style>\n",
       "<table border=\"1\" class=\"dataframe\">\n",
       "  <thead>\n",
       "    <tr style=\"text-align: right;\">\n",
       "      <th></th>\n",
       "      <th>profit/loss</th>\n",
       "      <th>Horse</th>\n",
       "      <th>Turnover</th>\n",
       "    </tr>\n",
       "    <tr>\n",
       "      <th>price_group</th>\n",
       "      <th></th>\n",
       "      <th></th>\n",
       "      <th></th>\n",
       "    </tr>\n",
       "  </thead>\n",
       "  <tbody>\n",
       "    <tr>\n",
       "      <th>1-2</th>\n",
       "      <td>2.90</td>\n",
       "      <td>28</td>\n",
       "      <td>101.258010</td>\n",
       "    </tr>\n",
       "    <tr>\n",
       "      <th>10-12</th>\n",
       "      <td>-17.00</td>\n",
       "      <td>87</td>\n",
       "      <td>109.554595</td>\n",
       "    </tr>\n",
       "    <tr>\n",
       "      <th>2-4</th>\n",
       "      <td>-34.95</td>\n",
       "      <td>129</td>\n",
       "      <td>102.615151</td>\n",
       "    </tr>\n",
       "    <tr>\n",
       "      <th>4-6</th>\n",
       "      <td>-21.00</td>\n",
       "      <td>154</td>\n",
       "      <td>105.298893</td>\n",
       "    </tr>\n",
       "    <tr>\n",
       "      <th>6-8</th>\n",
       "      <td>0.00</td>\n",
       "      <td>124</td>\n",
       "      <td>111.257619</td>\n",
       "    </tr>\n",
       "    <tr>\n",
       "      <th>8-10</th>\n",
       "      <td>59.50</td>\n",
       "      <td>82</td>\n",
       "      <td>100.097885</td>\n",
       "    </tr>\n",
       "  </tbody>\n",
       "</table>\n",
       "</div>"
      ],
      "text/plain": [
       "             profit/loss  Horse    Turnover\n",
       "price_group                                \n",
       "1-2                 2.90     28  101.258010\n",
       "10-12             -17.00     87  109.554595\n",
       "2-4               -34.95    129  102.615151\n",
       "4-6               -21.00    154  105.298893\n",
       "6-8                 0.00    124  111.257619\n",
       "8-10               59.50     82  100.097885"
      ]
     },
     "metadata": {},
     "output_type": "display_data"
    },
    {
     "data": {
      "text/html": [
       "<div>\n",
       "<style scoped>\n",
       "    .dataframe tbody tr th:only-of-type {\n",
       "        vertical-align: middle;\n",
       "    }\n",
       "\n",
       "    .dataframe tbody tr th {\n",
       "        vertical-align: top;\n",
       "    }\n",
       "\n",
       "    .dataframe thead th {\n",
       "        text-align: right;\n",
       "    }\n",
       "</style>\n",
       "<table border=\"1\" class=\"dataframe\">\n",
       "  <thead>\n",
       "    <tr style=\"text-align: right;\">\n",
       "      <th></th>\n",
       "      <th>profit/loss</th>\n",
       "      <th>Horse</th>\n",
       "      <th>Turnover</th>\n",
       "    </tr>\n",
       "    <tr>\n",
       "      <th>Type</th>\n",
       "      <th></th>\n",
       "      <th></th>\n",
       "      <th></th>\n",
       "    </tr>\n",
       "  </thead>\n",
       "  <tbody>\n",
       "    <tr>\n",
       "      <th>RaceType.GREYHOUND_RACE</th>\n",
       "      <td>43.00</td>\n",
       "      <td>219</td>\n",
       "      <td>104.104008</td>\n",
       "    </tr>\n",
       "    <tr>\n",
       "      <th>RaceType.TROT_RACE</th>\n",
       "      <td>5.70</td>\n",
       "      <td>132</td>\n",
       "      <td>106.010643</td>\n",
       "    </tr>\n",
       "    <tr>\n",
       "      <th>RaceType.HORSE_RACE</th>\n",
       "      <td>-59.25</td>\n",
       "      <td>253</td>\n",
       "      <td>106.844454</td>\n",
       "    </tr>\n",
       "  </tbody>\n",
       "</table>\n",
       "</div>"
      ],
      "text/plain": [
       "                         profit/loss  Horse    Turnover\n",
       "Type                                                   \n",
       "RaceType.GREYHOUND_RACE        43.00    219  104.104008\n",
       "RaceType.TROT_RACE              5.70    132  106.010643\n",
       "RaceType.HORSE_RACE           -59.25    253  106.844454"
      ]
     },
     "metadata": {},
     "output_type": "display_data"
    },
    {
     "data": {
      "text/html": [
       "<div>\n",
       "<style scoped>\n",
       "    .dataframe tbody tr th:only-of-type {\n",
       "        vertical-align: middle;\n",
       "    }\n",
       "\n",
       "    .dataframe tbody tr th {\n",
       "        vertical-align: top;\n",
       "    }\n",
       "\n",
       "    .dataframe thead th {\n",
       "        text-align: right;\n",
       "    }\n",
       "</style>\n",
       "<table border=\"1\" class=\"dataframe\">\n",
       "  <thead>\n",
       "    <tr style=\"text-align: right;\">\n",
       "      <th></th>\n",
       "      <th>profit/loss</th>\n",
       "      <th>Horse</th>\n",
       "      <th>Turnover</th>\n",
       "    </tr>\n",
       "    <tr>\n",
       "      <th>Venue</th>\n",
       "      <th></th>\n",
       "      <th></th>\n",
       "      <th></th>\n",
       "    </tr>\n",
       "  </thead>\n",
       "  <tbody>\n",
       "    <tr>\n",
       "      <th>Shepparton</th>\n",
       "      <td>17.55</td>\n",
       "      <td>12</td>\n",
       "      <td>102.400859</td>\n",
       "    </tr>\n",
       "    <tr>\n",
       "      <th>Ballarat</th>\n",
       "      <td>14.50</td>\n",
       "      <td>20</td>\n",
       "      <td>106.154679</td>\n",
       "    </tr>\n",
       "    <tr>\n",
       "      <th>Menangle</th>\n",
       "      <td>14.50</td>\n",
       "      <td>7</td>\n",
       "      <td>100.865919</td>\n",
       "    </tr>\n",
       "    <tr>\n",
       "      <th>Horsham</th>\n",
       "      <td>12.00</td>\n",
       "      <td>3</td>\n",
       "      <td>134.727316</td>\n",
       "    </tr>\n",
       "    <tr>\n",
       "      <th>Tamworth</th>\n",
       "      <td>12.00</td>\n",
       "      <td>17</td>\n",
       "      <td>122.606692</td>\n",
       "    </tr>\n",
       "    <tr>\n",
       "      <th>...</th>\n",
       "      <td>...</td>\n",
       "      <td>...</td>\n",
       "      <td>...</td>\n",
       "    </tr>\n",
       "    <tr>\n",
       "      <th>Traralgon</th>\n",
       "      <td>-7.50</td>\n",
       "      <td>10</td>\n",
       "      <td>100.062121</td>\n",
       "    </tr>\n",
       "    <tr>\n",
       "      <th>Taree</th>\n",
       "      <td>-9.45</td>\n",
       "      <td>11</td>\n",
       "      <td>115.548936</td>\n",
       "    </tr>\n",
       "    <tr>\n",
       "      <th>Geelong</th>\n",
       "      <td>-13.40</td>\n",
       "      <td>18</td>\n",
       "      <td>106.123984</td>\n",
       "    </tr>\n",
       "    <tr>\n",
       "      <th>Penn National</th>\n",
       "      <td>-16.00</td>\n",
       "      <td>16</td>\n",
       "      <td>107.401823</td>\n",
       "    </tr>\n",
       "    <tr>\n",
       "      <th>Charles Town</th>\n",
       "      <td>-23.25</td>\n",
       "      <td>45</td>\n",
       "      <td>104.027806</td>\n",
       "    </tr>\n",
       "  </tbody>\n",
       "</table>\n",
       "<p>78 rows × 3 columns</p>\n",
       "</div>"
      ],
      "text/plain": [
       "               profit/loss  Horse    Turnover\n",
       "Venue                                        \n",
       "Shepparton           17.55     12  102.400859\n",
       "Ballarat             14.50     20  106.154679\n",
       "Menangle             14.50      7  100.865919\n",
       "Horsham              12.00      3  134.727316\n",
       "Tamworth             12.00     17  122.606692\n",
       "...                    ...    ...         ...\n",
       "Traralgon            -7.50     10  100.062121\n",
       "Taree                -9.45     11  115.548936\n",
       "Geelong             -13.40     18  106.123984\n",
       "Penn National       -16.00     16  107.401823\n",
       "Charles Town        -23.25     45  104.027806\n",
       "\n",
       "[78 rows x 3 columns]"
      ]
     },
     "metadata": {},
     "output_type": "display_data"
    }
   ],
   "source": [
    "print(f'From a total of {len(all_bets)} bets, betting $1 on every horse yielded a total profit of: ${profit}')\n",
    "print(f'This equates to a return on investment (${len(all_bets)} base investment) of: {round(returns, 3)} percent.')\n",
    "\n",
    "display(location_returns)\n",
    "display(price_type_returns)\n",
    "display(race_type_returns)\n",
    "display(venue_returns)"
   ]
  },
  {
   "cell_type": "code",
   "execution_count": 23,
   "metadata": {},
   "outputs": [
    {
     "name": "stderr",
     "output_type": "stream",
     "text": [
      "C:\\Users\\bened\\AppData\\Local\\Temp\\ipykernel_18488\\3177747289.py:3: FutureWarning: Passing 'suffixes' which cause duplicate columns {'Horse_x'} in the result is deprecated and will raise a MergeError in a future version.\n",
      "  price_type_returns = pd.DataFrame(price_type_returns).merge(price_type_returns_n, left_index=True, right_index=True)\n",
      "C:\\Users\\bened\\AppData\\Local\\Temp\\ipykernel_18488\\3177747289.py:4: FutureWarning: Passing 'suffixes' which cause duplicate columns {'Turnover_x'} in the result is deprecated and will raise a MergeError in a future version.\n",
      "  price_type_returns = price_type_returns.merge(price_type_returns_t, left_index=True, right_index=True)\n"
     ]
    },
    {
     "data": {
      "text/html": [
       "<div>\n",
       "<style scoped>\n",
       "    .dataframe tbody tr th:only-of-type {\n",
       "        vertical-align: middle;\n",
       "    }\n",
       "\n",
       "    .dataframe tbody tr th {\n",
       "        vertical-align: top;\n",
       "    }\n",
       "\n",
       "    .dataframe thead th {\n",
       "        text-align: right;\n",
       "    }\n",
       "</style>\n",
       "<table border=\"1\" class=\"dataframe\">\n",
       "  <thead>\n",
       "    <tr style=\"text-align: right;\">\n",
       "      <th></th>\n",
       "      <th>profit/loss</th>\n",
       "      <th>Horse</th>\n",
       "      <th>Turnover</th>\n",
       "    </tr>\n",
       "    <tr>\n",
       "      <th>aus_horse_race</th>\n",
       "      <th></th>\n",
       "      <th></th>\n",
       "      <th></th>\n",
       "    </tr>\n",
       "  </thead>\n",
       "  <tbody>\n",
       "    <tr>\n",
       "      <th>0</th>\n",
       "      <td>2.05</td>\n",
       "      <td>442</td>\n",
       "      <td>105.262605</td>\n",
       "    </tr>\n",
       "    <tr>\n",
       "      <th>1</th>\n",
       "      <td>-12.60</td>\n",
       "      <td>162</td>\n",
       "      <td>106.776284</td>\n",
       "    </tr>\n",
       "  </tbody>\n",
       "</table>\n",
       "</div>"
      ],
      "text/plain": [
       "                profit/loss  Horse    Turnover\n",
       "aus_horse_race                                \n",
       "0                      2.05    442  105.262605\n",
       "1                    -12.60    162  106.776284"
      ]
     },
     "execution_count": 23,
     "metadata": {},
     "output_type": "execute_result"
    }
   ],
   "source": [
    "all_bets['aus_horse_race'] = np.where((all_bets['Location'] == 'AUS') & (all_bets['Type'] == 'RaceType.HORSE_RACE'), 1, 0)\n",
    "aus_horse_returns_p = all_bets.groupby('aus_horse_race')['profit/loss'].sum()\n",
    "aus_horse_returns_t = all_bets.groupby('aus_horse_race')['Turnover'].mean()\n",
    "aus_horse_n = all_bets.groupby('aus_horse_race')['Horse'].count()\n",
    "aus_horse_returns = pd.DataFrame(aus_horse_returns_p).merge(aus_horse_n, left_index=True, right_index=True)\n",
    "aus_horse_returns = aus_horse_returns.merge(aus_horse_returns_t, left_index=True, right_index=True)\n",
    "aus_horse_returns"
   ]
  },
  {
   "attachments": {},
   "cell_type": "markdown",
   "metadata": {},
   "source": [
    "Unlucky, or BSP not all its cracked up to be?"
   ]
  },
  {
   "cell_type": "code",
   "execution_count": 7,
   "metadata": {},
   "outputs": [
    {
     "data": {
      "text/plain": [
       "0.4192408363974547"
      ]
     },
     "execution_count": 7,
     "metadata": {},
     "output_type": "execute_result"
    }
   ],
   "source": [
    "mean = all_bets['profit/loss'].mean()\n",
    "signma = all_bets['profit/loss'].std()\n",
    "n = len(all_bets)\n",
    "dof = n -1\n",
    "mu = (all_bets['Turnover'].mean() / 100) - 1\n",
    "#t test:\n",
    "t = (mean - mu) / (signma / np.sqrt(n))\n",
    "t_test.cdf(t, dof)\n",
    "p_value = 2*(1 - t_test.cdf(abs(t), dof))\n",
    "p_value"
   ]
  },
  {
   "attachments": {},
   "cell_type": "markdown",
   "metadata": {},
   "source": [
    "#### How indicative of the BSP is the midpoint price?"
   ]
  },
  {
   "cell_type": "code",
   "execution_count": 8,
   "metadata": {},
   "outputs": [
    {
     "name": "stdout",
     "output_type": "stream",
     "text": [
      "On average the midpoint price is $-827.357 off from the BSP\n"
     ]
    },
    {
     "data": {
      "image/png": "[encoded data removed]",
      "text/plain": [
       "<Figure size 640x480 with 1 Axes>"
      ]
     },
     "metadata": {},
     "output_type": "display_data"
    }
   ],
   "source": [
    "# Let's calculate how far off the midpoint price is from BSP\n",
    "all_bets['midpoint difference'] = all_bets['BSP'] - all_bets['Midpoint Price']\n",
    "sum(all_bets['midpoint difference'])\n",
    "\n",
    "# lets plot the correlation of the BSp with the midpoint price in the all_bets df using matplot lib:\n",
    "plt.scatter(all_bets['BSP'], all_bets['Midpoint Price'])\n",
    "plt.xlabel('BSP')\n",
    "plt.ylabel('Midpoint Price')\n",
    "plt.plot(np.unique(all_bets['BSP']), np.poly1d(np.polyfit(all_bets['BSP'], all_bets['Midpoint Price'], 1))(np.unique(all_bets['BSP'])))\n",
    "plt.text(4, 1.5, f'Correlation Coefficient: {round(np.corrcoef(all_bets[\"BSP\"], all_bets[\"Midpoint Price\"])[0,1], 3)}')\n",
    "print(f'On average the midpoint price is ${round(np.mean(all_bets[\"midpoint difference\"]), 3)} off from the BSP')"
   ]
  },
  {
   "attachments": {},
   "cell_type": "markdown",
   "metadata": {},
   "source": [
    "#### How indicative of the BSP is the Betr price?"
   ]
  },
  {
   "cell_type": "code",
   "execution_count": 9,
   "metadata": {},
   "outputs": [
    {
     "name": "stdout",
     "output_type": "stream",
     "text": [
      "On average the betr price is $-0.017 off from the BSP\n"
     ]
    },
    {
     "data": {
      "image/png": "[encoded data removed]",
      "text/plain": [
       "<Figure size 640x480 with 1 Axes>"
      ]
     },
     "metadata": {},
     "output_type": "display_data"
    }
   ],
   "source": [
    "all_bets['betr difference'] = all_bets['BSP'] - all_bets['Price']\n",
    "sum(all_bets['betr difference'])\n",
    "\n",
    "# lets plot the correlation of the BSP with the price in the all_bets df using matplot lib:\n",
    "plt.scatter(all_bets['BSP'], all_bets['Price'])\n",
    "plt.scatter(all_bets['BSP'], all_bets['Price'])\n",
    "plt.xlabel('BSP')\n",
    "plt.ylabel('Betr Price')\n",
    "plt.plot(np.unique(all_bets['BSP']), np.poly1d(np.polyfit(all_bets['BSP'], all_bets['Price'], 1))(np.unique(all_bets['BSP'])))\n",
    "plt.text(4, 1.5, f'Correlation Coefficient: {round(np.corrcoef(all_bets[\"BSP\"], all_bets[\"Price\"])[0,1], 3)}')\n",
    "print(f'On average the betr price is ${round(np.mean(all_bets[\"betr difference\"]), 3)} off from the BSP')"
   ]
  },
  {
   "attachments": {},
   "cell_type": "markdown",
   "metadata": {},
   "source": [
    "#### How good would of betting with the Kelly Criterion been?\n",
    "\n",
    "Thus far we have assumed we made \\\\$1 bets for every horse - but what if the bet size was a function of the implied probability we derive from the price. The below code sees how well we would of done using the kelly criterion for stake sizes assuming we initially placed \\\\$100 in. "
   ]
  },
  {
   "cell_type": "code",
   "execution_count": 10,
   "metadata": {},
   "outputs": [
    {
     "data": {
      "text/plain": [
       "Text(0, 1200, 'initial stake: $100')"
      ]
     },
     "execution_count": 10,
     "metadata": {},
     "output_type": "execute_result"
    },
    {
     "data": {
      "image/png": "[encoded data removed]",
      "text/plain": [
       "<Figure size 640x480 with 1 Axes>"
      ]
     },
     "metadata": {},
     "output_type": "display_data"
    }
   ],
   "source": [
    "initial_stake = 100\n",
    "bets = len(all_bets)\n",
    "monies_array = [initial_stake]\n",
    "\n",
    "def kelly_fraction(prob, prop_bet_gained):\n",
    "  return ((prob) - ((1 - prob)) / prop_bet_gained) # need to check correct formula two sites differerd.\n",
    "\n",
    "for bet in range(1,bets):\n",
    "    index = bet - 1 \n",
    "    prob = all_bets['implied_probability'][index]\n",
    "    price = all_bets['Price'][index]\n",
    "    prop_bet_gained = (price*1) /1\n",
    "    kelly_frac = kelly_fraction(prob, prop_bet_gained)\n",
    "    kelly = kelly_frac * monies_array[-1]\n",
    "\n",
    "    if all_bets['WIN_LOSE'][index] == 1:\n",
    "        total_purse = monies_array[-1] + (price * kelly)\n",
    "        monies_array.append(total_purse)\n",
    "    else:\n",
    "        total_purse = monies_array[-1] - (kelly)\n",
    "        monies_array.append(total_purse)\n",
    "\n",
    "plt.plot(monies_array)\n",
    "#lets add axis titles and labels:\n",
    "plt.xlabel('Bet number')\n",
    "plt.ylabel('Monies')\n",
    "plt.title('Total money by cumulative bet number')\n",
    "plt.text(0, 1200, f'initial stake: ${initial_stake}')"
   ]
  },
  {
   "attachments": {},
   "cell_type": "markdown",
   "metadata": {},
   "source": [
    "### *below is Ben playing around*"
   ]
  },
  {
   "attachments": {},
   "cell_type": "markdown",
   "metadata": {},
   "source": [
    "#### Profit from all bets- assuming BSP is long run probability. "
   ]
  },
  {
   "cell_type": "code",
   "execution_count": null,
   "metadata": {},
   "outputs": [
    {
     "name": "stdout",
     "output_type": "stream",
     "text": [
      "From a total of (337 bets) the overall turnover for all our bets is: 104.622361282017.\n",
      "This would equate to a profit of 10362.236 percent- (assuming BSP is accurate in long run)\n"
     ]
    }
   ],
   "source": [
    "print(f'From a total of ({len(all_bets)} bets) the overall turnover for all our bets is: {all_bets.Turnover.mean()}.')\n",
    "print(f'This would equate to a profit of {round(all_bets.Turnover.mean() * 100 - 100, 3)} percent- (assuming BSP is accurate in long run)')\n",
    "\n"
   ]
  },
  {
   "attachments": {},
   "cell_type": "markdown",
   "metadata": {},
   "source": [
    "#### Profit if we had only bet when the price was better than the midpoint price:"
   ]
  },
  {
   "cell_type": "code",
   "execution_count": 11,
   "metadata": {},
   "outputs": [
    {
     "name": "stdout",
     "output_type": "stream",
     "text": [
      "From a total of (310 bets) the overall turnover for all our bets is: 104.03934650702357.\n",
      "This equates to a profit of 10303.935 percent.\n"
     ]
    }
   ],
   "source": [
    "print(f'From a total of ({len(midpoint_strat_profit)} bets) the overall turnover for all our bets is: {midpoint_strat_profit.Turnover.mean()}.')\n",
    "print(f'This equates to a profit of {round(midpoint_strat_profit.Turnover.mean() * 100 - 100, 3)} percent.')"
   ]
  },
  {
   "cell_type": "code",
   "execution_count": null,
   "metadata": {},
   "outputs": [],
   "source": []
  },
  {
   "cell_type": "code",
   "execution_count": null,
   "metadata": {},
   "outputs": [],
   "source": []
  },
  {
   "cell_type": "code",
   "execution_count": null,
   "metadata": {},
   "outputs": [],
   "source": []
  }
 ],
 "metadata": {
  "kernelspec": {
   "display_name": "Python 3",
   "language": "python",
   "name": "python3"
  },
  "language_info": {
   "codemirror_mode": {
    "name": "ipython",
    "version": 3
   },
   "file_extension": ".py",
   "mimetype": "text/x-python",
   "name": "python",
   "nbconvert_exporter": "python",
   "pygments_lexer": "ipython3",
   "version": "3.9.13"
  },
  "orig_nbformat": 4,
  "vscode": {
   "interpreter": {
    "hash": "df7e380dc4bd12358531d9bb750d42cf6bcb6b53243542dabce030e1bc638fb8"
   }
  }
 },
 "nbformat": 4,
 "nbformat_minor": 2
}
