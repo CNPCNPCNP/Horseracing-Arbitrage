{
 "cells": [
  {
   "attachments": {},
   "cell_type": "markdown",
   "metadata": {},
   "source": [
    "## How good is the strategy?"
   ]
  },
  {
   "attachments": {},
   "cell_type": "markdown",
   "metadata": {},
   "source": [
    "#### Import packages"
   ]
  },
  {
   "cell_type": "code",
   "execution_count": 1,
   "metadata": {},
   "outputs": [],
   "source": [
    "# import data packages\n",
    "import pandas as pd\n",
    "import numpy as np\n",
    "from scipy.stats import t as t_test\n",
    "import datetime\n",
    "import matplotlib.pyplot as plt\n",
    "\n"
   ]
  },
  {
   "cell_type": "code",
   "execution_count": 2,
   "metadata": {},
   "outputs": [],
   "source": [
    "#import all bets:\n",
    "all_bets = pd.read_csv('analysis/results/all_bets2.csv', index_col=0)"
   ]
  },
  {
   "attachments": {},
   "cell_type": "markdown",
   "metadata": {},
   "source": [
    "#### Manipualte base data"
   ]
  },
  {
   "cell_type": "code",
   "execution_count": 3,
   "metadata": {},
   "outputs": [],
   "source": [
    "all_bets['midpoint turnover'] = (all_bets['Midpoint Price'] / all_bets['BSP'])\n",
    "all_bets['midpoint turnover'] = (all_bets['Midpoint Price'] / all_bets['BSP'])\n",
    "all_bets['profit/loss'] = np.where(all_bets['WIN_LOSE'] == 1, (all_bets['Price'] * 1) - 1, -1)\n",
    "all_bets['winnings'] = np.where(all_bets['WIN_LOSE'] == 1, (all_bets['Price'] * 1), 0)\n",
    "all_bets['kelly'] = np.where(all_bets['WIN_LOSE'] == 1, (all_bets['Price'] * 1), 0)\n",
    "all_bets['implied_probability'] = 1 / all_bets['Price']\n",
    "#let's filter the data to only observations where the price > midpoint price:\n",
    "midpoint_strat_profit = all_bets[all_bets['Price'] > all_bets['Midpoint Price']]\n",
    "profit = sum(all_bets['profit/loss'])\n",
    "winnings = sum(all_bets['winnings'])\n",
    "returns = profit / len(all_bets) * 100\n",
    "\n",
    "# let's group the data by characteristics and see if there is a difference in key metrics:\n",
    "location_returns = all_bets.groupby('Location')['profit/loss'].sum()\n",
    "location_returns_n = all_bets.groupby('Location')['Horse'].count()\n",
    "location_returns_t = all_bets.groupby('Location')['Turnover'].mean()\n",
    "location_returns = pd.DataFrame(location_returns.sort_values(ascending=False)).merge(location_returns_n, left_index=True, right_index=True)\n",
    "location_returns = location_returns.merge(location_returns_t, left_index=True, right_index=True)\n",
    "\n",
    "venue_returns = all_bets.groupby('Venue')['profit/loss'].sum()\n",
    "venue_returns_n = all_bets.groupby('Venue')['Horse'].count()\n",
    "venure_returns_t = all_bets.groupby('Venue')['Turnover'].mean()\n",
    "venue_returns = pd.DataFrame(venue_returns.sort_values(ascending=False)).merge(venue_returns_n, left_index=True, right_index=True)\n",
    "venue_returns = venue_returns.merge(venure_returns_t, left_index=True, right_index=True)\n",
    "\n",
    "race_type_returns = all_bets.groupby('Type')['profit/loss'].sum()\n",
    "race_type_returns_n = all_bets.groupby('Type')['Horse'].count()\n",
    "race_type_returns_t = all_bets.groupby('Type')['Turnover'].mean()\n",
    "race_type_returns = pd.DataFrame(race_type_returns.sort_values(ascending=False)).merge(race_type_returns_n, left_index=True, right_index=True)\n",
    "race_type_returns = race_type_returns.merge(race_type_returns_t, left_index=True, right_index=True)"
   ]
  },
  {
   "cell_type": "code",
   "execution_count": 4,
   "metadata": {},
   "outputs": [],
   "source": [
    "# let's group the data by price and see if there is a difference in profit/loss and turnover by price:\n",
    "conditions = [(all_bets['Price'] >= 1) & (all_bets['Price'] < 2),\n",
    "                (all_bets['Price'] >= 2) & (all_bets['Price'] < 4),\n",
    "                (all_bets['Price'] >= 4) & (all_bets['Price'] < 6),\n",
    "                (all_bets['Price'] >= 6) & (all_bets['Price'] < 8),\n",
    "                (all_bets['Price'] >= 8) & (all_bets['Price'] < 10),\n",
    "                (all_bets['Price'] >= 10) & (all_bets['Price'] < 12),\n",
    "                (all_bets['Price'] >= 12) & (all_bets['Price'] < 14),\n",
    "                (all_bets['Price'] >= 14) & (all_bets['Price'] < 16),\n",
    "                (all_bets['Price'] >= 16) & (all_bets['Price'] < 18),\n",
    "                (all_bets['Price'] >= 18) & (all_bets['Price'] < 20),\n",
    "                (all_bets['Price'] >= 20)]\n",
    "\n",
    "price_group = [\"1-2\", \"2-4\", \"4-6\", \"6-8\", \"8-10\", \"10-12\", \"12-14\", \"14-16\", \"16-18\", \"18-20\", \"20+\"]\n",
    "\n",
    "all_bets['price_group'] = np.select(conditions, price_group)\n",
    "\n",
    "price_type_returns = all_bets.groupby('price_group')['profit/loss'].sum()\n",
    "price_type_returns_n = all_bets.groupby('price_group')['Horse'].count()\n",
    "price_type_returns_t = all_bets.groupby('price_group')['Turnover'].mean()\n",
    "price_type_returns = pd.DataFrame(price_type_returns).merge(price_type_returns_n, left_index=True, right_index=True)\n",
    "price_type_returns = price_type_returns.merge(price_type_returns_t, left_index=True, right_index=True)"
   ]
  },
  {
   "attachments": {},
   "cell_type": "markdown",
   "metadata": {},
   "source": [
    "#### How good are our bets thus far?"
   ]
  },
  {
   "cell_type": "code",
   "execution_count": 5,
   "metadata": {},
   "outputs": [
    {
     "name": "stdout",
     "output_type": "stream",
     "text": [
      "From a total of 778 bets, betting $1 on every horse yielded a total profit of: $-4.349999999999989\n",
      "This equates to a return on investment ($778 base investment) of: -0.559 percent.\n"
     ]
    },
    {
     "data": {
      "text/html": [
       "<div>\n",
       "<style scoped>\n",
       "    .dataframe tbody tr th:only-of-type {\n",
       "        vertical-align: middle;\n",
       "    }\n",
       "\n",
       "    .dataframe tbody tr th {\n",
       "        vertical-align: top;\n",
       "    }\n",
       "\n",
       "    .dataframe thead th {\n",
       "        text-align: right;\n",
       "    }\n",
       "</style>\n",
       "<table border=\"1\" class=\"dataframe\">\n",
       "  <thead>\n",
       "    <tr style=\"text-align: right;\">\n",
       "      <th></th>\n",
       "      <th>profit/loss</th>\n",
       "      <th>Horse</th>\n",
       "      <th>Turnover</th>\n",
       "    </tr>\n",
       "    <tr>\n",
       "      <th>Location</th>\n",
       "      <th></th>\n",
       "      <th></th>\n",
       "      <th></th>\n",
       "    </tr>\n",
       "  </thead>\n",
       "  <tbody>\n",
       "    <tr>\n",
       "      <th>AUS</th>\n",
       "      <td>42.30</td>\n",
       "      <td>687</td>\n",
       "      <td>105.369089</td>\n",
       "    </tr>\n",
       "    <tr>\n",
       "      <th>USA</th>\n",
       "      <td>-46.65</td>\n",
       "      <td>91</td>\n",
       "      <td>106.965810</td>\n",
       "    </tr>\n",
       "  </tbody>\n",
       "</table>\n",
       "</div>"
      ],
      "text/plain": [
       "          profit/loss  Horse    Turnover\n",
       "Location                                \n",
       "AUS             42.30    687  105.369089\n",
       "USA            -46.65     91  106.965810"
      ]
     },
     "metadata": {},
     "output_type": "display_data"
    },
    {
     "data": {
      "text/html": [
       "<div>\n",
       "<style scoped>\n",
       "    .dataframe tbody tr th:only-of-type {\n",
       "        vertical-align: middle;\n",
       "    }\n",
       "\n",
       "    .dataframe tbody tr th {\n",
       "        vertical-align: top;\n",
       "    }\n",
       "\n",
       "    .dataframe thead th {\n",
       "        text-align: right;\n",
       "    }\n",
       "</style>\n",
       "<table border=\"1\" class=\"dataframe\">\n",
       "  <thead>\n",
       "    <tr style=\"text-align: right;\">\n",
       "      <th></th>\n",
       "      <th>profit/loss</th>\n",
       "      <th>Horse</th>\n",
       "      <th>Turnover</th>\n",
       "    </tr>\n",
       "    <tr>\n",
       "      <th>price_group</th>\n",
       "      <th></th>\n",
       "      <th></th>\n",
       "      <th></th>\n",
       "    </tr>\n",
       "  </thead>\n",
       "  <tbody>\n",
       "    <tr>\n",
       "      <th>1-2</th>\n",
       "      <td>3.80</td>\n",
       "      <td>29</td>\n",
       "      <td>101.418998</td>\n",
       "    </tr>\n",
       "    <tr>\n",
       "      <th>10-12</th>\n",
       "      <td>-13.00</td>\n",
       "      <td>113</td>\n",
       "      <td>109.105504</td>\n",
       "    </tr>\n",
       "    <tr>\n",
       "      <th>2-4</th>\n",
       "      <td>-35.55</td>\n",
       "      <td>173</td>\n",
       "      <td>103.097393</td>\n",
       "    </tr>\n",
       "    <tr>\n",
       "      <th>4-6</th>\n",
       "      <td>-29.10</td>\n",
       "      <td>207</td>\n",
       "      <td>105.168366</td>\n",
       "    </tr>\n",
       "    <tr>\n",
       "      <th>6-8</th>\n",
       "      <td>-0.50</td>\n",
       "      <td>159</td>\n",
       "      <td>109.361429</td>\n",
       "    </tr>\n",
       "    <tr>\n",
       "      <th>8-10</th>\n",
       "      <td>70.00</td>\n",
       "      <td>97</td>\n",
       "      <td>101.631049</td>\n",
       "    </tr>\n",
       "  </tbody>\n",
       "</table>\n",
       "</div>"
      ],
      "text/plain": [
       "             profit/loss  Horse    Turnover\n",
       "price_group                                \n",
       "1-2                 3.80     29  101.418998\n",
       "10-12             -13.00    113  109.105504\n",
       "2-4               -35.55    173  103.097393\n",
       "4-6               -29.10    207  105.168366\n",
       "6-8                -0.50    159  109.361429\n",
       "8-10               70.00     97  101.631049"
      ]
     },
     "metadata": {},
     "output_type": "display_data"
    },
    {
     "data": {
      "text/html": [
       "<div>\n",
       "<style scoped>\n",
       "    .dataframe tbody tr th:only-of-type {\n",
       "        vertical-align: middle;\n",
       "    }\n",
       "\n",
       "    .dataframe tbody tr th {\n",
       "        vertical-align: top;\n",
       "    }\n",
       "\n",
       "    .dataframe thead th {\n",
       "        text-align: right;\n",
       "    }\n",
       "</style>\n",
       "<table border=\"1\" class=\"dataframe\">\n",
       "  <thead>\n",
       "    <tr style=\"text-align: right;\">\n",
       "      <th></th>\n",
       "      <th>profit/loss</th>\n",
       "      <th>Horse</th>\n",
       "      <th>Turnover</th>\n",
       "    </tr>\n",
       "    <tr>\n",
       "      <th>Type</th>\n",
       "      <th></th>\n",
       "      <th></th>\n",
       "      <th></th>\n",
       "    </tr>\n",
       "  </thead>\n",
       "  <tbody>\n",
       "    <tr>\n",
       "      <th>RaceType.GREYHOUND_RACE</th>\n",
       "      <td>33.00</td>\n",
       "      <td>327</td>\n",
       "      <td>104.852652</td>\n",
       "    </tr>\n",
       "    <tr>\n",
       "      <th>RaceType.TROT_RACE</th>\n",
       "      <td>11.00</td>\n",
       "      <td>163</td>\n",
       "      <td>105.017029</td>\n",
       "    </tr>\n",
       "    <tr>\n",
       "      <th>RaceType.HORSE_RACE</th>\n",
       "      <td>-48.35</td>\n",
       "      <td>288</td>\n",
       "      <td>106.659234</td>\n",
       "    </tr>\n",
       "  </tbody>\n",
       "</table>\n",
       "</div>"
      ],
      "text/plain": [
       "                         profit/loss  Horse    Turnover\n",
       "Type                                                   \n",
       "RaceType.GREYHOUND_RACE        33.00    327  104.852652\n",
       "RaceType.TROT_RACE             11.00    163  105.017029\n",
       "RaceType.HORSE_RACE           -48.35    288  106.659234"
      ]
     },
     "metadata": {},
     "output_type": "display_data"
    },
    {
     "data": {
      "text/html": [
       "<div>\n",
       "<style scoped>\n",
       "    .dataframe tbody tr th:only-of-type {\n",
       "        vertical-align: middle;\n",
       "    }\n",
       "\n",
       "    .dataframe tbody tr th {\n",
       "        vertical-align: top;\n",
       "    }\n",
       "\n",
       "    .dataframe thead th {\n",
       "        text-align: right;\n",
       "    }\n",
       "</style>\n",
       "<table border=\"1\" class=\"dataframe\">\n",
       "  <thead>\n",
       "    <tr style=\"text-align: right;\">\n",
       "      <th></th>\n",
       "      <th>profit/loss</th>\n",
       "      <th>Horse</th>\n",
       "      <th>Turnover</th>\n",
       "    </tr>\n",
       "    <tr>\n",
       "      <th>Venue</th>\n",
       "      <th></th>\n",
       "      <th></th>\n",
       "      <th></th>\n",
       "    </tr>\n",
       "  </thead>\n",
       "  <tbody>\n",
       "    <tr>\n",
       "      <th>Albion Park</th>\n",
       "      <td>14.30</td>\n",
       "      <td>43</td>\n",
       "      <td>104.882104</td>\n",
       "    </tr>\n",
       "    <tr>\n",
       "      <th>Tamworth</th>\n",
       "      <td>12.00</td>\n",
       "      <td>17</td>\n",
       "      <td>122.606692</td>\n",
       "    </tr>\n",
       "    <tr>\n",
       "      <th>Horsham</th>\n",
       "      <td>12.00</td>\n",
       "      <td>3</td>\n",
       "      <td>134.727316</td>\n",
       "    </tr>\n",
       "    <tr>\n",
       "      <th>Shepparton</th>\n",
       "      <td>11.55</td>\n",
       "      <td>18</td>\n",
       "      <td>103.091890</td>\n",
       "    </tr>\n",
       "    <tr>\n",
       "      <th>Moonee Valley</th>\n",
       "      <td>10.60</td>\n",
       "      <td>4</td>\n",
       "      <td>105.508152</td>\n",
       "    </tr>\n",
       "    <tr>\n",
       "      <th>...</th>\n",
       "      <td>...</td>\n",
       "      <td>...</td>\n",
       "      <td>...</td>\n",
       "    </tr>\n",
       "    <tr>\n",
       "      <th>Taree</th>\n",
       "      <td>-9.45</td>\n",
       "      <td>11</td>\n",
       "      <td>115.548936</td>\n",
       "    </tr>\n",
       "    <tr>\n",
       "      <th>Ipswich</th>\n",
       "      <td>-13.25</td>\n",
       "      <td>30</td>\n",
       "      <td>104.400167</td>\n",
       "    </tr>\n",
       "    <tr>\n",
       "      <th>Geelong</th>\n",
       "      <td>-15.00</td>\n",
       "      <td>26</td>\n",
       "      <td>105.047322</td>\n",
       "    </tr>\n",
       "    <tr>\n",
       "      <th>Penn National</th>\n",
       "      <td>-16.00</td>\n",
       "      <td>16</td>\n",
       "      <td>107.401823</td>\n",
       "    </tr>\n",
       "    <tr>\n",
       "      <th>Charles Town</th>\n",
       "      <td>-23.25</td>\n",
       "      <td>45</td>\n",
       "      <td>104.027806</td>\n",
       "    </tr>\n",
       "  </tbody>\n",
       "</table>\n",
       "<p>87 rows × 3 columns</p>\n",
       "</div>"
      ],
      "text/plain": [
       "               profit/loss  Horse    Turnover\n",
       "Venue                                        \n",
       "Albion Park          14.30     43  104.882104\n",
       "Tamworth             12.00     17  122.606692\n",
       "Horsham              12.00      3  134.727316\n",
       "Shepparton           11.55     18  103.091890\n",
       "Moonee Valley        10.60      4  105.508152\n",
       "...                    ...    ...         ...\n",
       "Taree                -9.45     11  115.548936\n",
       "Ipswich             -13.25     30  104.400167\n",
       "Geelong             -15.00     26  105.047322\n",
       "Penn National       -16.00     16  107.401823\n",
       "Charles Town        -23.25     45  104.027806\n",
       "\n",
       "[87 rows x 3 columns]"
      ]
     },
     "metadata": {},
     "output_type": "display_data"
    }
   ],
   "source": [
    "print(f'From a total of {len(all_bets)} bets, betting $1 on every horse yielded a total profit of: ${profit}')\n",
    "print(f'This equates to a return on investment (${len(all_bets)} base investment) of: {round(returns, 3)} percent.')\n",
    "\n",
    "display(location_returns)\n",
    "display(price_type_returns)\n",
    "display(race_type_returns)\n",
    "display(venue_returns)"
   ]
  },
  {
   "cell_type": "code",
   "execution_count": 6,
   "metadata": {},
   "outputs": [
    {
     "data": {
      "text/html": [
       "<div>\n",
       "<style scoped>\n",
       "    .dataframe tbody tr th:only-of-type {\n",
       "        vertical-align: middle;\n",
       "    }\n",
       "\n",
       "    .dataframe tbody tr th {\n",
       "        vertical-align: top;\n",
       "    }\n",
       "\n",
       "    .dataframe thead th {\n",
       "        text-align: right;\n",
       "    }\n",
       "</style>\n",
       "<table border=\"1\" class=\"dataframe\">\n",
       "  <thead>\n",
       "    <tr style=\"text-align: right;\">\n",
       "      <th></th>\n",
       "      <th>profit/loss</th>\n",
       "      <th>Horse</th>\n",
       "      <th>Turnover</th>\n",
       "    </tr>\n",
       "    <tr>\n",
       "      <th>aus_horse_race</th>\n",
       "      <th></th>\n",
       "      <th></th>\n",
       "      <th></th>\n",
       "    </tr>\n",
       "  </thead>\n",
       "  <tbody>\n",
       "    <tr>\n",
       "      <th>0</th>\n",
       "      <td>-2.65</td>\n",
       "      <td>581</td>\n",
       "      <td>105.229745</td>\n",
       "    </tr>\n",
       "    <tr>\n",
       "      <th>1</th>\n",
       "      <td>-1.70</td>\n",
       "      <td>197</td>\n",
       "      <td>106.517618</td>\n",
       "    </tr>\n",
       "  </tbody>\n",
       "</table>\n",
       "</div>"
      ],
      "text/plain": [
       "                profit/loss  Horse    Turnover\n",
       "aus_horse_race                                \n",
       "0                     -2.65    581  105.229745\n",
       "1                     -1.70    197  106.517618"
      ]
     },
     "execution_count": 6,
     "metadata": {},
     "output_type": "execute_result"
    }
   ],
   "source": [
    "all_bets['aus_horse_race'] = np.where((all_bets['Location'] == 'AUS') & (all_bets['Type'] == 'RaceType.HORSE_RACE'), 1, 0)\n",
    "aus_horse_returns_p = all_bets.groupby('aus_horse_race')['profit/loss'].sum()\n",
    "aus_horse_returns_t = all_bets.groupby('aus_horse_race')['Turnover'].mean()\n",
    "aus_horse_n = all_bets.groupby('aus_horse_race')['Horse'].count()\n",
    "aus_horse_returns = pd.DataFrame(aus_horse_returns_p).merge(aus_horse_n, left_index=True, right_index=True)\n",
    "aus_horse_returns = aus_horse_returns.merge(aus_horse_returns_t, left_index=True, right_index=True)\n",
    "aus_horse_returns"
   ]
  },
  {
   "attachments": {},
   "cell_type": "markdown",
   "metadata": {},
   "source": [
    "Unlucky, or BSP not all its cracked up to be?"
   ]
  },
  {
   "cell_type": "code",
   "execution_count": 7,
   "metadata": {},
   "outputs": [
    {
     "data": {
      "text/plain": [
       "0.45044732119204456"
      ]
     },
     "execution_count": 7,
     "metadata": {},
     "output_type": "execute_result"
    }
   ],
   "source": [
    "mean = all_bets['profit/loss'].mean()\n",
    "signma = all_bets['profit/loss'].std()\n",
    "n = len(all_bets)\n",
    "dof = n -1\n",
    "mu = (all_bets['Turnover'].mean() / 100) - 1\n",
    "#t test:\n",
    "t = (mean - mu) / (signma / np.sqrt(n))\n",
    "t_test.cdf(t, dof)\n",
    "p_value = 2*(1 - t_test.cdf(abs(t), dof))\n",
    "p_value"
   ]
  },
  {
   "attachments": {},
   "cell_type": "markdown",
   "metadata": {},
   "source": [
    "#### How indicative of the BSP is the midpoint price?"
   ]
  },
  {
   "cell_type": "code",
   "execution_count": 8,
   "metadata": {},
   "outputs": [
    {
     "name": "stdout",
     "output_type": "stream",
     "text": [
      "On average the midpoint price is $-642.24 off from the BSP\n"
     ]
    },
    {
     "data": {
      "image/png": "[encoded data removed]",
      "text/plain": [
       "<Figure size 640x480 with 1 Axes>"
      ]
     },
     "metadata": {},
     "output_type": "display_data"
    }
   ],
   "source": [
    "# Let's calculate how far off the midpoint price is from BSP\n",
    "all_bets['midpoint difference'] = all_bets['BSP'] - all_bets['Midpoint Price']\n",
    "sum(all_bets['midpoint difference'])\n",
    "\n",
    "# lets plot the correlation of the BSp with the midpoint price in the all_bets df using matplot lib:\n",
    "plt.scatter(all_bets['BSP'], all_bets['Midpoint Price'])\n",
    "plt.xlabel('BSP')\n",
    "plt.ylabel('Midpoint Price')\n",
    "plt.plot(np.unique(all_bets['BSP']), np.poly1d(np.polyfit(all_bets['BSP'], all_bets['Midpoint Price'], 1))(np.unique(all_bets['BSP'])))\n",
    "plt.text(4, 1.5, f'Correlation Coefficient: {round(np.corrcoef(all_bets[\"BSP\"], all_bets[\"Midpoint Price\"])[0,1], 3)}')\n",
    "print(f'On average the midpoint price is ${round(np.mean(all_bets[\"midpoint difference\"]), 3)} off from the BSP')"
   ]
  },
  {
   "attachments": {},
   "cell_type": "markdown",
   "metadata": {},
   "source": [
    "#### How indicative of the BSP is the Betr price?"
   ]
  },
  {
   "cell_type": "code",
   "execution_count": 9,
   "metadata": {},
   "outputs": [
    {
     "name": "stdout",
     "output_type": "stream",
     "text": [
      "On average the betr price is $-0.025 off from the BSP\n"
     ]
    },
    {
     "data": {
      "image/png": "[encoded data removed]",
      "text/plain": [
       "<Figure size 640x480 with 1 Axes>"
      ]
     },
     "metadata": {},
     "output_type": "display_data"
    }
   ],
   "source": [
    "all_bets['betr difference'] = all_bets['BSP'] - all_bets['Price']\n",
    "sum(all_bets['betr difference'])\n",
    "\n",
    "# lets plot the correlation of the BSP with the price in the all_bets df using matplot lib:\n",
    "plt.scatter(all_bets['BSP'], all_bets['Price'])\n",
    "plt.scatter(all_bets['BSP'], all_bets['Price'])\n",
    "plt.xlabel('BSP')\n",
    "plt.ylabel('Betr Price')\n",
    "plt.plot(np.unique(all_bets['BSP']), np.poly1d(np.polyfit(all_bets['BSP'], all_bets['Price'], 1))(np.unique(all_bets['BSP'])))\n",
    "plt.text(4, 1.5, f'Correlation Coefficient: {round(np.corrcoef(all_bets[\"BSP\"], all_bets[\"Price\"])[0,1], 3)}')\n",
    "print(f'On average the betr price is ${round(np.mean(all_bets[\"betr difference\"]), 3)} off from the BSP')"
   ]
  },
  {
   "attachments": {},
   "cell_type": "markdown",
   "metadata": {},
   "source": [
    "#### How good would of betting with the Kelly Criterion been?\n",
    "\n",
    "Thus far we have assumed we made \\\\$1 bets for every horse - but what if the bet size was a function of the implied probability we derive from the price. The below code sees how well we would of done using the kelly criterion for stake sizes assuming we initially placed \\\\$100 in. "
   ]
  },
  {
   "cell_type": "code",
   "execution_count": 10,
   "metadata": {},
   "outputs": [
    {
     "data": {
      "text/plain": [
       "Text(0, 1200, 'initial stake: $100')"
      ]
     },
     "execution_count": 10,
     "metadata": {},
     "output_type": "execute_result"
    },
    {
     "data": {
      "image/png": "[encoded data removed]",
      "text/plain": [
       "<Figure size 640x480 with 1 Axes>"
      ]
     },
     "metadata": {},
     "output_type": "display_data"
    }
   ],
   "source": [
    "initial_stake = 100\n",
    "bets = len(all_bets)\n",
    "monies_array = [initial_stake]\n",
    "\n",
    "def kelly_fraction(prob, prop_bet_gained):\n",
    "  return ((prob) - ((1 - prob)) / prop_bet_gained) # need to check correct formula two sites differerd.\n",
    "\n",
    "for bet in range(1,bets):\n",
    "    index = bet - 1 \n",
    "    prob = all_bets['implied_probability'][index]\n",
    "    price = all_bets['Price'][index]\n",
    "    prop_bet_gained = (price*1) /1\n",
    "    kelly_frac = kelly_fraction(prob, prop_bet_gained)\n",
    "    kelly = kelly_frac * monies_array[-1]\n",
    "\n",
    "    if all_bets['WIN_LOSE'][index] == 1:\n",
    "        total_purse = monies_array[-1] + (price * kelly)\n",
    "        monies_array.append(total_purse)\n",
    "    else:\n",
    "        total_purse = monies_array[-1] - (kelly)\n",
    "        monies_array.append(total_purse)\n",
    "\n",
    "plt.plot(monies_array)\n",
    "#lets add axis titles and labels:\n",
    "plt.xlabel('Bet number')\n",
    "plt.ylabel('Monies')\n",
    "plt.title('Total money by cumulative bet number')\n",
    "plt.text(0, 1200, f'initial stake: ${initial_stake}')"
   ]
  },
  {
   "attachments": {},
   "cell_type": "markdown",
   "metadata": {},
   "source": [
    "### *below is Ben playing around*"
   ]
  },
  {
   "attachments": {},
   "cell_type": "markdown",
   "metadata": {},
   "source": [
    "#### Profit from all bets- assuming BSP is long run probability. "
   ]
  },
  {
   "cell_type": "code",
   "execution_count": 11,
   "metadata": {},
   "outputs": [
    {
     "name": "stdout",
     "output_type": "stream",
     "text": [
      "From a total of (778 bets) the overall turnover for all our bets is: 105.55585172392252.\n",
      "This would equate to a profit of 10455.585 percent- (assuming BSP is accurate in long run)\n"
     ]
    }
   ],
   "source": [
    "print(f'From a total of ({len(all_bets)} bets) the overall turnover for all our bets is: {all_bets.Turnover.mean()}.')\n",
    "print(f'This would equate to a profit of {round(all_bets.Turnover.mean() * 100 - 100, 3)} percent- (assuming BSP is accurate in long run)')\n",
    "\n"
   ]
  },
  {
   "attachments": {},
   "cell_type": "markdown",
   "metadata": {},
   "source": [
    "#### Profit if we had only bet when the price was better than the midpoint price:"
   ]
  },
  {
   "cell_type": "code",
   "execution_count": 12,
   "metadata": {},
   "outputs": [
    {
     "name": "stdout",
     "output_type": "stream",
     "text": [
      "From a total of (749 bets) the overall turnover for all our bets is: 105.38388099912476.\n",
      "This equates to a profit of 10438.388 percent.\n"
     ]
    }
   ],
   "source": [
    "print(f'From a total of ({len(midpoint_strat_profit)} bets) the overall turnover for all our bets is: {midpoint_strat_profit.Turnover.mean()}.')\n",
    "print(f'This equates to a profit of {round(midpoint_strat_profit.Turnover.mean() * 100 - 100, 3)} percent.')"
   ]
  },
  {
   "cell_type": "code",
   "execution_count": null,
   "metadata": {},
   "outputs": [],
   "source": []
  },
  {
   "cell_type": "code",
   "execution_count": null,
   "metadata": {},
   "outputs": [],
   "source": []
  },
  {
   "cell_type": "code",
   "execution_count": null,
   "metadata": {},
   "outputs": [],
   "source": []
  }
 ],
 "metadata": {
  "kernelspec": {
   "display_name": "venv",
   "language": "python",
   "name": "python3"
  },
  "language_info": {
   "codemirror_mode": {
    "name": "ipython",
    "version": 3
   },
   "file_extension": ".py",
   "mimetype": "text/x-python",
   "name": "python",
   "nbconvert_exporter": "python",
   "pygments_lexer": "ipython3",
   "version": "3.11.0 (main, Oct 24 2022, 18:26:48) [MSC v.1933 64 bit (AMD64)]"
  },
  "orig_nbformat": 4,
  "vscode": {
   "interpreter": {
    "hash": "32f2a89760ec68a734146e8a0374525004a06728af0b478a04902d0d47949ac8"
   }
  }
 },
 "nbformat": 4,
 "nbformat_minor": 2
}
